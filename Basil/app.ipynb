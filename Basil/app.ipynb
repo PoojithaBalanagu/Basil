{
 "cells": [
  {
   "cell_type": "code",
   "execution_count": null,
   "metadata": {},
   "outputs": [
    {
     "name": "stdout",
     "output_type": "stream",
     "text": [
      " * Serving Flask app \"__main__\" (lazy loading)\n",
      " * Environment: production\n",
      "   WARNING: This is a development server. Do not use it in a production deployment.\n",
      "   Use a production WSGI server instead.\n",
      " * Debug mode: off\n"
     ]
    },
    {
     "name": "stderr",
     "output_type": "stream",
     "text": [
      " * Running on http://127.0.0.1:5002/ (Press CTRL+C to quit)\n",
      "127.0.0.1 - - [02/Jul/2020 17:44:30] \"\u001b[33mGET / HTTP/1.1\u001b[0m\" 404 -\n",
      "127.0.0.1 - - [02/Jul/2020 17:44:32] \"\u001b[33mGET /favicon.ico HTTP/1.1\u001b[0m\" 404 -\n",
      "127.0.0.1 - - [02/Jul/2020 17:44:38] \"\u001b[37mGET /specs HTTP/1.1\u001b[0m\" 200 -\n",
      "127.0.0.1 - - [02/Jul/2020 17:44:38] \"\u001b[33mGET /css/fonts.css HTTP/1.1\u001b[0m\" 404 -\n",
      "127.0.0.1 - - [02/Jul/2020 17:44:39] \"\u001b[33mGET /bower_components/html5-boilerplate/dist/js/vendor/modernizr-2.8.3.min.js HTTP/1.1\u001b[0m\" 404 -\n",
      "127.0.0.1 - - [02/Jul/2020 17:44:39] \"\u001b[33mGET /bower_components/html5-boilerplate/dist/js/vendor/modernizr-2.8.3.min.js HTTP/1.1\u001b[0m\" 404 -\n",
      "127.0.0.1 - - [02/Jul/2020 17:44:45] \"\u001b[37mGET /desc HTTP/1.1\u001b[0m\" 200 -\n",
      "127.0.0.1 - - [02/Jul/2020 17:44:45] \"\u001b[33mGET /css/fonts.css HTTP/1.1\u001b[0m\" 404 -\n",
      "127.0.0.1 - - [02/Jul/2020 17:44:45] \"\u001b[33mGET /bower_components/html5-boilerplate/dist/js/vendor/modernizr-2.8.3.min.js HTTP/1.1\u001b[0m\" 404 -\n"
     ]
    }
   ],
   "source": [
    "from flask import Flask, request, render_template\n",
    " \n",
    "\n",
    "app = Flask(__name__)\n",
    "app.secret_key=os.urandom(24)\n",
    "\n",
    "@app.route(\"/specs\")\n",
    "def specs():\n",
    "    return render_template('specs.html',page='1')\n",
    "\n",
    "@app.route(\"/desc\")\n",
    "def desc():\n",
    "    return render_template('desc.html',page='2')\n",
    "\n",
    "@app.route(\"/scripts\")\n",
    "def scripts():\n",
    "    return render_template('scripts.html',page='3')\n",
    "\n",
    "\n",
    "if __name__ == \"__main__\":\n",
    "    #app.secret_key = os.urandom(24)\n",
    "    app.run(debug=False, port=5002)"
   ]
  },
  {
   "cell_type": "code",
   "execution_count": null,
   "metadata": {
    "scrolled": true
   },
   "outputs": [
    {
     "name": "stdout",
     "output_type": "stream",
     "text": [
      " * Serving Flask app \"__main__\" (lazy loading)\n",
      " * Environment: production\n",
      "   WARNING: Do not use the development server in a production environment.\n",
      "   Use a production WSGI server instead.\n",
      " * Debug mode: off\n"
     ]
    },
    {
     "name": "stderr",
     "output_type": "stream",
     "text": [
      " * Running on http://127.0.0.1:5002/ (Press CTRL+C to quit)\n",
      "127.0.0.1 - - [30/Jun/2020 12:15:21] \"\u001b[37mGET / HTTP/1.1\u001b[0m\" 200 -\n",
      "127.0.0.1 - - [30/Jun/2020 12:15:22] \"\u001b[33mGET /bower_components/html5-boilerplate/dist/css/normalize.css HTTP/1.1\u001b[0m\" 404 -\n",
      "127.0.0.1 - - [30/Jun/2020 12:15:22] \"\u001b[33mGET /bower_components/html5-boilerplate/dist/css/main.css HTTP/1.1\u001b[0m\" 404 -\n",
      "127.0.0.1 - - [30/Jun/2020 12:15:22] \"\u001b[33mGET /app.css HTTP/1.1\u001b[0m\" 404 -\n",
      "127.0.0.1 - - [30/Jun/2020 12:15:22] \"\u001b[33mGET /bower_components/html5-boilerplate/dist/js/vendor/modernizr-2.8.3.min.js HTTP/1.1\u001b[0m\" 404 -\n",
      "127.0.0.1 - - [30/Jun/2020 12:15:22] \"\u001b[33mGET /app.css HTTP/1.1\u001b[0m\" 404 -\n",
      "127.0.0.1 - - [30/Jun/2020 12:15:22] \"\u001b[33mGET /bower_components/html5-boilerplate/dist/js/vendor/modernizr-2.8.3.min.js HTTP/1.1\u001b[0m\" 404 -\n",
      "127.0.0.1 - - [30/Jun/2020 12:16:20] \"\u001b[32mPOST / HTTP/1.1\u001b[0m\" 302 -\n",
      "[2020-06-30 12:16:21,287] ERROR in app: Exception on /read_sql [GET]\n",
      "Traceback (most recent call last):\n",
      "  File \"/Users/ganeshan/anaconda3/lib/python3.6/site-packages/flask/app.py\", line 2292, in wsgi_app\n",
      "    response = self.full_dispatch_request()\n",
      "  File \"/Users/ganeshan/anaconda3/lib/python3.6/site-packages/flask/app.py\", line 1815, in full_dispatch_request\n",
      "    rv = self.handle_user_exception(e)\n",
      "  File \"/Users/ganeshan/anaconda3/lib/python3.6/site-packages/flask/app.py\", line 1718, in handle_user_exception\n",
      "    reraise(exc_type, exc_value, tb)\n",
      "  File \"/Users/ganeshan/anaconda3/lib/python3.6/site-packages/flask/_compat.py\", line 35, in reraise\n",
      "    raise value\n",
      "  File \"/Users/ganeshan/anaconda3/lib/python3.6/site-packages/flask/app.py\", line 1813, in full_dispatch_request\n",
      "    rv = self.dispatch_request()\n",
      "  File \"/Users/ganeshan/anaconda3/lib/python3.6/site-packages/flask/app.py\", line 1799, in dispatch_request\n",
      "    return self.view_functions[rule.endpoint](**req.view_args)\n",
      "  File \"<ipython-input-5-b193feae9ba0>\", line 29, in read_sql\n",
      "    output = results.toxml()\n",
      "AttributeError: 'dict' object has no attribute 'toxml'\n",
      "127.0.0.1 - - [30/Jun/2020 12:16:21] \"\u001b[1m\u001b[35mGET /read_sql HTTP/1.1\u001b[0m\" 500 -\n",
      "127.0.0.1 - - [30/Jun/2020 12:16:23] \"\u001b[37mGET / HTTP/1.1\u001b[0m\" 200 -\n",
      "127.0.0.1 - - [30/Jun/2020 12:16:24] \"\u001b[33mGET /bower_components/html5-boilerplate/dist/css/main.css HTTP/1.1\u001b[0m\" 404 -\n",
      "127.0.0.1 - - [30/Jun/2020 12:16:24] \"\u001b[33mGET /app.css HTTP/1.1\u001b[0m\" 404 -\n",
      "127.0.0.1 - - [30/Jun/2020 12:16:30] \"\u001b[32mPOST / HTTP/1.1\u001b[0m\" 302 -\n",
      "[2020-06-30 12:16:30,847] ERROR in app: Exception on /read_sql [GET]\n",
      "Traceback (most recent call last):\n",
      "  File \"/Users/ganeshan/anaconda3/lib/python3.6/site-packages/flask/app.py\", line 2292, in wsgi_app\n",
      "    response = self.full_dispatch_request()\n",
      "  File \"/Users/ganeshan/anaconda3/lib/python3.6/site-packages/flask/app.py\", line 1815, in full_dispatch_request\n",
      "    rv = self.handle_user_exception(e)\n",
      "  File \"/Users/ganeshan/anaconda3/lib/python3.6/site-packages/flask/app.py\", line 1718, in handle_user_exception\n",
      "    reraise(exc_type, exc_value, tb)\n",
      "  File \"/Users/ganeshan/anaconda3/lib/python3.6/site-packages/flask/_compat.py\", line 35, in reraise\n",
      "    raise value\n",
      "  File \"/Users/ganeshan/anaconda3/lib/python3.6/site-packages/flask/app.py\", line 1813, in full_dispatch_request\n",
      "    rv = self.dispatch_request()\n",
      "  File \"/Users/ganeshan/anaconda3/lib/python3.6/site-packages/flask/app.py\", line 1799, in dispatch_request\n",
      "    return self.view_functions[rule.endpoint](**req.view_args)\n",
      "  File \"<ipython-input-5-b193feae9ba0>\", line 29, in read_sql\n",
      "    output = results.toxml()\n",
      "AttributeError: 'dict' object has no attribute 'toxml'\n",
      "127.0.0.1 - - [30/Jun/2020 12:16:30] \"\u001b[1m\u001b[35mGET /read_sql HTTP/1.1\u001b[0m\" 500 -\n",
      "127.0.0.1 - - [30/Jun/2020 12:16:34] \"\u001b[37mGET / HTTP/1.1\u001b[0m\" 200 -\n",
      "127.0.0.1 - - [30/Jun/2020 12:16:41] \"\u001b[32mPOST / HTTP/1.1\u001b[0m\" 302 -\n",
      "[2020-06-30 12:16:41,430] ERROR in app: Exception on /read_sql [GET]\n",
      "Traceback (most recent call last):\n",
      "  File \"/Users/ganeshan/anaconda3/lib/python3.6/site-packages/flask/app.py\", line 2292, in wsgi_app\n",
      "    response = self.full_dispatch_request()\n",
      "  File \"/Users/ganeshan/anaconda3/lib/python3.6/site-packages/flask/app.py\", line 1815, in full_dispatch_request\n",
      "    rv = self.handle_user_exception(e)\n",
      "  File \"/Users/ganeshan/anaconda3/lib/python3.6/site-packages/flask/app.py\", line 1718, in handle_user_exception\n",
      "    reraise(exc_type, exc_value, tb)\n",
      "  File \"/Users/ganeshan/anaconda3/lib/python3.6/site-packages/flask/_compat.py\", line 35, in reraise\n",
      "    raise value\n",
      "  File \"/Users/ganeshan/anaconda3/lib/python3.6/site-packages/flask/app.py\", line 1813, in full_dispatch_request\n",
      "    rv = self.dispatch_request()\n",
      "  File \"/Users/ganeshan/anaconda3/lib/python3.6/site-packages/flask/app.py\", line 1799, in dispatch_request\n",
      "    return self.view_functions[rule.endpoint](**req.view_args)\n",
      "  File \"<ipython-input-5-b193feae9ba0>\", line 29, in read_sql\n",
      "    output = results.toxml()\n",
      "AttributeError: 'dict' object has no attribute 'toxml'\n",
      "127.0.0.1 - - [30/Jun/2020 12:16:41] \"\u001b[1m\u001b[35mGET /read_sql HTTP/1.1\u001b[0m\" 500 -\n"
     ]
    }
   ],
   "source": [
    "from flask import Flask, request, jsonify, render_template, redirect, flash, session,url_for\n",
    "import os\n",
    "from SPARQLWrapper import SPARQLWrapper, XML,JSON \n",
    "\n",
    "app = Flask(__name__)\n",
    "app.secret_key=os.urandom(24)\n",
    "\n",
    "@app.route(\"/\")\n",
    "def home():\n",
    "    return render_template('html_template.html')\n",
    "\n",
    "@app.route('/', methods=[\"POST\", \"GET\"])\n",
    "def some_function():\n",
    "    if request.method == 'POST':\n",
    "        text1 = request.form['url']\n",
    "        text = request.form.get('textbox')\n",
    "        session['text1']=str(text1)\n",
    "        session['text']=str(text)\n",
    "    return redirect(url_for('read_sql'))\n",
    "\n",
    "@app.route(\"/read_sql\", methods=[\"POST\", \"GET\"])\n",
    "def read_sql():\n",
    "    url=session.get('text1')\n",
    "    query=session.get('text')\n",
    "    sparql = SPARQLWrapper(url)\n",
    "    sparql.setQuery(query)\n",
    "    sparql.setReturnFormat(JSON)\n",
    "    results = sparql.query().convert()\n",
    "    output = results.toxml() \n",
    "    print(output)\n",
    "    return output\n",
    "\n",
    "\n",
    "if __name__ == \"__main__\":\n",
    "    #app.secret_key = os.urandom(24)\n",
    "    app.run(debug=False, port=5002)\n",
    "\n"
   ]
  },
  {
   "cell_type": "code",
   "execution_count": 3,
   "metadata": {},
   "outputs": [],
   "source": [
    "from SPARQLWrapper import SPARQLWrapper, XML,JSON "
   ]
  },
  {
   "cell_type": "code",
   "execution_count": 4,
   "metadata": {},
   "outputs": [
    {
     "name": "stdout",
     "output_type": "stream",
     "text": [
      "<?xml version=\"1.0\" ?><sparql xmlns=\"http://www.w3.org/2005/sparql-results#\" xmlns:xsi=\"http://www.w3.org/2001/XMLSchema-instance\" xsi:schemaLocation=\"http://www.w3.org/2001/sw/DataAccess/rf1/result2.xsd\">\n",
      " <head>\n",
      "  <variable name=\"athlete\"/>\n",
      " </head>\n",
      " <results distinct=\"false\" ordered=\"true\">\n",
      "  <result>\n",
      "   <binding name=\"athlete\"><uri>http://dbpedia.org/resource/Cristiano_Ronaldo</uri></binding>\n",
      "  </result>\n",
      "  <result>\n",
      "   <binding name=\"athlete\"><uri>http://www.wikidata.org/entity/Q11571</uri></binding>\n",
      "  </result>\n",
      "  <result>\n",
      "   <binding name=\"athlete\"><uri>http://www.wikidata.org/entity/Q1455765</uri></binding>\n",
      "  </result>\n",
      " </results>\n",
      "</sparql>\n"
     ]
    }
   ],
   "source": [
    "sparql = SPARQLWrapper(\"https://dbpedia.org/sparql\")\n",
    "\n",
    "sparql.setQuery(\"\"\"SELECT *\n",
    "\n",
    "WHERE\n",
    "\n",
    "     {\n",
    "\n",
    "        ?athlete rdfs:label \"Cristiano Ronaldo\"@en\n",
    "\n",
    "     }\"\"\")\n",
    "\n",
    "sparql.setReturnFormat(XML)\n",
    "\n",
    "results = sparql.query().convert()\n",
    "\n",
    "output = results.toxml()\n",
    "print(output)"
   ]
  },
  {
   "cell_type": "code",
   "execution_count": 6,
   "metadata": {},
   "outputs": [
    {
     "data": {
      "text/plain": [
       "'<?xml version=\"1.0\" ?><sparql xmlns=\"http://www.w3.org/2005/sparql-results#\" xmlns:xsi=\"http://www.w3.org/2001/XMLSchema-instance\" xsi:schemaLocation=\"http://www.w3.org/2001/sw/DataAccess/rf1/result2.xsd\">\\n <head>\\n  <variable name=\"label\"/>\\n </head>\\n <results distinct=\"false\" ordered=\"true\">\\n  <result>\\n   <binding name=\"label\"><literal xml:lang=\"en\">Asturias</literal></binding>\\n  </result>\\n  <result>\\n   <binding name=\"label\"><literal xml:lang=\"ar\">منطقة أستورياس</literal></binding>\\n  </result>\\n  <result>\\n   <binding name=\"label\"><literal xml:lang=\"de\">Asturien</literal></binding>\\n  </result>\\n  <result>\\n   <binding name=\"label\"><literal xml:lang=\"es\">Asturias</literal></binding>\\n  </result>\\n  <result>\\n   <binding name=\"label\"><literal xml:lang=\"fr\">Asturies</literal></binding>\\n  </result>\\n  <result>\\n   <binding name=\"label\"><literal xml:lang=\"it\">Asturie</literal></binding>\\n  </result>\\n  <result>\\n   <binding name=\"label\"><literal xml:lang=\"ja\">アストゥリアス州</literal></binding>\\n  </result>\\n  <result>\\n   <binding name=\"label\"><literal xml:lang=\"nl\">Asturië (regio)</literal></binding>\\n  </result>\\n  <result>\\n   <binding name=\"label\"><literal xml:lang=\"pl\">Asturia</literal></binding>\\n  </result>\\n  <result>\\n   <binding name=\"label\"><literal xml:lang=\"pt\">Astúrias</literal></binding>\\n  </result>\\n  <result>\\n   <binding name=\"label\"><literal xml:lang=\"ru\">Астурия</literal></binding>\\n  </result>\\n  <result>\\n   <binding name=\"label\"><literal xml:lang=\"zh\">阿斯图里亚斯</literal></binding>\\n  </result>\\n </results>\\n</sparql>'"
      ]
     },
     "execution_count": 6,
     "metadata": {},
     "output_type": "execute_result"
    }
   ],
   "source": [
    "sparql = SPARQLWrapper(\"http://dbpedia.org/sparql\")\n",
    "sparql.setQuery(\"\"\"\n",
    "    PREFIX rdfs: <http://www.w3.org/2000/01/rdf-schema#>\n",
    "    SELECT ?label\n",
    "    WHERE { <http://dbpedia.org/resource/Asturias> rdfs:label ?label }\n",
    "    \"\"\")\n",
    "sparql.setReturnFormat(XML)\n",
    "results = sparql.query().convert()\n",
    "results.toxml()\n"
   ]
  },
  {
   "cell_type": "code",
   "execution_count": null,
   "metadata": {},
   "outputs": [],
   "source": []
  }
 ],
 "metadata": {
  "kernelspec": {
   "display_name": "Python 3",
   "language": "python",
   "name": "python3"
  },
  "language_info": {
   "codemirror_mode": {
    "name": "ipython",
    "version": 3
   },
   "file_extension": ".py",
   "mimetype": "text/x-python",
   "name": "python",
   "nbconvert_exporter": "python",
   "pygments_lexer": "ipython3",
   "version": "3.7.3"
  }
 },
 "nbformat": 4,
 "nbformat_minor": 2
}
